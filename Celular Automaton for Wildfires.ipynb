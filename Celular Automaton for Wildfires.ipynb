{
 "cells": [
  {
   "cell_type": "markdown",
   "metadata": {},
   "source": [
    "<center>\n",
    "    <h1> Celular Automaton for Wildfires</h1>\n",
    "    <h3> Original author: Pedro Ferreira @Tetraktyz</h3>\n",
    "</center>\n",
    "\n",
    "<center>Visit <a href=\"tetratkyz.github.io\">tetratkyz.github.io</a> to get to know me.</center>\n",
    "\n",
    "<center>Keep learning</center>\n",
    "    \n",
    "    "
   ]
  },
  {
   "cell_type": "code",
   "execution_count": 4,
   "metadata": {},
   "outputs": [],
   "source": [
    "import numpy as np\n",
    "import imageio\n",
    "\n",
    "# Cell States\n",
    "# 0 = Clear, 1 = Fuel, 2 = Fire\n",
    "\n",
    "prob = .6 # probability of a cell being fuel, otherwise it's clear\n",
    "total_time = 300 # simulation time\n",
    "terrain_size = [100,100] # size of the simulation: 10000 cells"
   ]
  },
  {
   "cell_type": "code",
   "execution_count": 5,
   "metadata": {},
   "outputs": [],
   "source": [
    "# states hold the state of each cell\n",
    "states = np.zeros((total_time,*terrain_size))\n",
    "# initialize states by creating random fuel and clear cells\n",
    "states[0] = np.random.choice([0,1],size=terrain_size,p=[1-prob,prob])\n",
    "# set the middle cell on fire!!!\n",
    "states[0,terrain_size[0]//2,terrain_size[1]//2] = 2\n",
    "\n",
    "for t in range(1,total_time):\n",
    "    # Make a copy of the original states\n",
    "    states[t] = states[t-1].copy()\n",
    "\n",
    "    for x in range(1,terrain_size[0]-1):\n",
    "        for y in range(1,terrain_size[1]-1):\n",
    "\n",
    "            if states[t-1,x,y] == 2: # It's on fire\n",
    "                states[t,x,y] = 0 # Put it out and clear it\n",
    "                \n",
    "                # If there's fuel surrounding it\n",
    "                # set it on fire!\n",
    "                if states[t-1,x+1,y] == 1: \n",
    "                    states[t,x+1,y] = 2\n",
    "                if states[t-1,x-1,y] == 1:\n",
    "                    states[t,x-1,y] = 2\n",
    "                if states[t-1,x,y+1] == 1:\n",
    "                    states[t,x,y+1] = 2\n",
    "                if states[t-1,x,y-1] == 1:\n",
    "                    states[t,x,y-1] = 2"
   ]
  },
  {
   "cell_type": "code",
   "execution_count": 6,
   "metadata": {},
   "outputs": [],
   "source": [
    "colored = np.zeros((total_time,*terrain_size,3),dtype=np.uint8)\n",
    "\n",
    "# Color\n",
    "for t in range(states.shape[0]):\n",
    "    for x in range(states[t].shape[0]):\n",
    "        for y in range(states[t].shape[1]):\n",
    "            value = states[t,x,y].copy()\n",
    "\n",
    "            if value == 0:\n",
    "                colored[t,x,y] = [139,69,19] # Clear\n",
    "            elif value == 1: \n",
    "                colored[t,x,y] = [0,255,0]   # Fuel\n",
    "            elif value == 2: \n",
    "                colored[t,x,y] = [255,0,0]   # Burning\n",
    "            \n",
    "# Crop\n",
    "cropped = colored[:200,1:terrain_size[0]-1,1:terrain_size[1]-1]\n",
    "\n",
    "imageio.mimsave('./video.gif', cropped)"
   ]
  }
 ],
 "metadata": {
  "kernelspec": {
   "display_name": "Python 3",
   "language": "python",
   "name": "python3"
  },
  "language_info": {
   "codemirror_mode": {
    "name": "ipython",
    "version": 3
   },
   "file_extension": ".py",
   "mimetype": "text/x-python",
   "name": "python",
   "nbconvert_exporter": "python",
   "pygments_lexer": "ipython3",
   "version": "3.6.6"
  }
 },
 "nbformat": 4,
 "nbformat_minor": 2
}
